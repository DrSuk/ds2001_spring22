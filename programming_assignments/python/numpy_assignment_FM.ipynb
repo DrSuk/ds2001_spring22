{
 "cells": [
  {
   "cell_type": "markdown",
   "metadata": {},
   "source": [
    "## Numpy Assignment\n",
    "\n",
    "\n",
    "### University of Virginia\n",
    "### Programming for Data Science\n",
    "### Last Updated: September 10, 2021\n",
    "---"
   ]
  },
  {
   "cell_type": "markdown",
   "metadata": {},
   "source": [
    "### Instructions\n",
    "\n",
    "Use the **numpy** package to perform analysis on forest fire data.  \n",
    "Background: while **pandas** is convenient for tables of data with mixed type, it can be much slower than numpy.  \n",
    "For numeric data, it can often be very efficient to compute directly with numpy.\n",
    "\n",
    "### TOTAL POINTS: 14\n",
    "---\n"
   ]
  },
  {
   "cell_type": "code",
   "execution_count": 1,
   "metadata": {},
   "outputs": [],
   "source": [
    "import numpy as np\n",
    "import pandas as pd"
   ]
  },
  {
   "cell_type": "markdown",
   "metadata": {},
   "source": [
    "#### Read in the dataset from the UCI Machine Learning Repository  "
   ]
  },
  {
   "cell_type": "code",
   "execution_count": 8,
   "metadata": {},
   "outputs": [
    {
     "data": {
      "text/html": [
       "<div>\n",
       "<style scoped>\n",
       "    .dataframe tbody tr th:only-of-type {\n",
       "        vertical-align: middle;\n",
       "    }\n",
       "\n",
       "    .dataframe tbody tr th {\n",
       "        vertical-align: top;\n",
       "    }\n",
       "\n",
       "    .dataframe thead th {\n",
       "        text-align: right;\n",
       "    }\n",
       "</style>\n",
       "<table border=\"1\" class=\"dataframe\">\n",
       "  <thead>\n",
       "    <tr style=\"text-align: right;\">\n",
       "      <th></th>\n",
       "      <th>X</th>\n",
       "      <th>Y</th>\n",
       "      <th>month</th>\n",
       "      <th>day</th>\n",
       "      <th>FFMC</th>\n",
       "      <th>DMC</th>\n",
       "      <th>DC</th>\n",
       "      <th>ISI</th>\n",
       "      <th>temp</th>\n",
       "      <th>RH</th>\n",
       "      <th>wind</th>\n",
       "      <th>rain</th>\n",
       "      <th>area</th>\n",
       "    </tr>\n",
       "  </thead>\n",
       "  <tbody>\n",
       "    <tr>\n",
       "      <th>0</th>\n",
       "      <td>7</td>\n",
       "      <td>5</td>\n",
       "      <td>mar</td>\n",
       "      <td>fri</td>\n",
       "      <td>86.2</td>\n",
       "      <td>26.2</td>\n",
       "      <td>94.3</td>\n",
       "      <td>5.1</td>\n",
       "      <td>8.2</td>\n",
       "      <td>51</td>\n",
       "      <td>6.7</td>\n",
       "      <td>0.0</td>\n",
       "      <td>0.0</td>\n",
       "    </tr>\n",
       "    <tr>\n",
       "      <th>1</th>\n",
       "      <td>7</td>\n",
       "      <td>4</td>\n",
       "      <td>oct</td>\n",
       "      <td>tue</td>\n",
       "      <td>90.6</td>\n",
       "      <td>35.4</td>\n",
       "      <td>669.1</td>\n",
       "      <td>6.7</td>\n",
       "      <td>18.0</td>\n",
       "      <td>33</td>\n",
       "      <td>0.9</td>\n",
       "      <td>0.0</td>\n",
       "      <td>0.0</td>\n",
       "    </tr>\n",
       "  </tbody>\n",
       "</table>\n",
       "</div>"
      ],
      "text/plain": [
       "   X  Y month  day  FFMC   DMC     DC  ISI  temp  RH  wind  rain  area\n",
       "0  7  5   mar  fri  86.2  26.2   94.3  5.1   8.2  51   6.7   0.0   0.0\n",
       "1  7  4   oct  tue  90.6  35.4  669.1  6.7  18.0  33   0.9   0.0   0.0"
      ]
     },
     "execution_count": 8,
     "metadata": {},
     "output_type": "execute_result"
    }
   ],
   "source": [
    "path_to_data = \"https://archive.ics.uci.edu/ml/machine-learning-databases/forest-fires/forestfires.csv\"\n",
    "fire = pd.read_csv(path_to_data)\n",
    "fire.head(2)"
   ]
  },
  {
   "cell_type": "markdown",
   "metadata": {},
   "source": [
    "1) **(1 PT)** Select columns of interest (`cols_to_keep`) and save as numpy array called *arr*. Print *arr*.\n",
    "\n",
    "Hint: df.values will extract the values from dataframe `df`"
   ]
  },
  {
   "cell_type": "code",
   "execution_count": 3,
   "metadata": {},
   "outputs": [],
   "source": [
    "cols_to_keep = ['temp','wind','rain','area']"
   ]
  },
  {
   "cell_type": "code",
   "execution_count": 12,
   "metadata": {},
   "outputs": [
    {
     "name": "stdout",
     "output_type": "stream",
     "text": [
      "     temp  wind  rain   area\n",
      "0     8.2   6.7   0.0   0.00\n",
      "1    18.0   0.9   0.0   0.00\n",
      "2    14.6   1.3   0.0   0.00\n",
      "3     8.3   4.0   0.2   0.00\n",
      "4    11.4   1.8   0.0   0.00\n",
      "..    ...   ...   ...    ...\n",
      "512  27.8   2.7   0.0   6.44\n",
      "513  21.9   5.8   0.0  54.29\n",
      "514  21.2   6.7   0.0  11.16\n",
      "515  25.6   4.0   0.0   0.00\n",
      "516  11.8   4.5   0.0   0.00\n",
      "\n",
      "[517 rows x 4 columns]\n"
     ]
    }
   ],
   "source": [
    "arr=fire[cols_to_keep]\n",
    "print(arr)"
   ]
  },
  {
   "cell_type": "markdown",
   "metadata": {},
   "source": [
    "2) **(1 PT)** Print the shape of the array"
   ]
  },
  {
   "cell_type": "code",
   "execution_count": 13,
   "metadata": {},
   "outputs": [
    {
     "data": {
      "text/plain": [
       "(517, 4)"
      ]
     },
     "execution_count": 13,
     "metadata": {},
     "output_type": "execute_result"
    }
   ],
   "source": [
    "arr.shape"
   ]
  },
  {
   "cell_type": "markdown",
   "metadata": {},
   "source": [
    "3) **(1 PT)** Subset into *arr* and print: all rows, first two columns"
   ]
  },
  {
   "cell_type": "code",
   "execution_count": 47,
   "metadata": {},
   "outputs": [
    {
     "data": {
      "text/html": [
       "<div>\n",
       "<style scoped>\n",
       "    .dataframe tbody tr th:only-of-type {\n",
       "        vertical-align: middle;\n",
       "    }\n",
       "\n",
       "    .dataframe tbody tr th {\n",
       "        vertical-align: top;\n",
       "    }\n",
       "\n",
       "    .dataframe thead th {\n",
       "        text-align: right;\n",
       "    }\n",
       "</style>\n",
       "<table border=\"1\" class=\"dataframe\">\n",
       "  <thead>\n",
       "    <tr style=\"text-align: right;\">\n",
       "      <th></th>\n",
       "      <th>temp</th>\n",
       "      <th>wind</th>\n",
       "    </tr>\n",
       "  </thead>\n",
       "  <tbody>\n",
       "    <tr>\n",
       "      <th>0</th>\n",
       "      <td>8.2</td>\n",
       "      <td>6.7</td>\n",
       "    </tr>\n",
       "    <tr>\n",
       "      <th>1</th>\n",
       "      <td>18.0</td>\n",
       "      <td>0.9</td>\n",
       "    </tr>\n",
       "    <tr>\n",
       "      <th>2</th>\n",
       "      <td>14.6</td>\n",
       "      <td>1.3</td>\n",
       "    </tr>\n",
       "    <tr>\n",
       "      <th>3</th>\n",
       "      <td>8.3</td>\n",
       "      <td>4.0</td>\n",
       "    </tr>\n",
       "    <tr>\n",
       "      <th>4</th>\n",
       "      <td>11.4</td>\n",
       "      <td>1.8</td>\n",
       "    </tr>\n",
       "    <tr>\n",
       "      <th>...</th>\n",
       "      <td>...</td>\n",
       "      <td>...</td>\n",
       "    </tr>\n",
       "    <tr>\n",
       "      <th>512</th>\n",
       "      <td>27.8</td>\n",
       "      <td>2.7</td>\n",
       "    </tr>\n",
       "    <tr>\n",
       "      <th>513</th>\n",
       "      <td>21.9</td>\n",
       "      <td>5.8</td>\n",
       "    </tr>\n",
       "    <tr>\n",
       "      <th>514</th>\n",
       "      <td>21.2</td>\n",
       "      <td>6.7</td>\n",
       "    </tr>\n",
       "    <tr>\n",
       "      <th>515</th>\n",
       "      <td>25.6</td>\n",
       "      <td>4.0</td>\n",
       "    </tr>\n",
       "    <tr>\n",
       "      <th>516</th>\n",
       "      <td>11.8</td>\n",
       "      <td>4.5</td>\n",
       "    </tr>\n",
       "  </tbody>\n",
       "</table>\n",
       "<p>517 rows × 2 columns</p>\n",
       "</div>"
      ],
      "text/plain": [
       "     temp  wind\n",
       "0     8.2   6.7\n",
       "1    18.0   0.9\n",
       "2    14.6   1.3\n",
       "3     8.3   4.0\n",
       "4    11.4   1.8\n",
       "..    ...   ...\n",
       "512  27.8   2.7\n",
       "513  21.9   5.8\n",
       "514  21.2   6.7\n",
       "515  25.6   4.0\n",
       "516  11.8   4.5\n",
       "\n",
       "[517 rows x 2 columns]"
      ]
     },
     "execution_count": 47,
     "metadata": {},
     "output_type": "execute_result"
    }
   ],
   "source": [
    "arr[arr.columns[:2]]"
   ]
  },
  {
   "cell_type": "markdown",
   "metadata": {},
   "source": [
    "4) **(1 PT)** Transpose *arr*, print the transpose, and print the shape of the transpose"
   ]
  },
  {
   "cell_type": "code",
   "execution_count": 48,
   "metadata": {},
   "outputs": [
    {
     "name": "stdout",
     "output_type": "stream",
     "text": [
      "      0     1     2    3     4     5     6    7     8     9    ...   507  \\\n",
      "temp  8.2  18.0  14.6  8.3  11.4  22.2  24.1  8.0  13.1  22.8  ...  25.9   \n",
      "wind  6.7   0.9   1.3  4.0   1.8   5.4   3.1  2.2   5.4   4.0  ...   3.6   \n",
      "rain  0.0   0.0   0.0  0.2   0.0   0.0   0.0  0.0   0.0   0.0  ...   0.0   \n",
      "area  0.0   0.0   0.0  0.0   0.0   0.0   0.0  0.0   0.0   0.0  ...   0.0   \n",
      "\n",
      "       508    509    510   511    512    513    514   515   516  \n",
      "temp  25.9  21.10  18.20  27.8  27.80  21.90  21.20  25.6  11.8  \n",
      "wind   3.6   7.60   5.40   2.7   2.70   5.80   6.70   4.0   4.5  \n",
      "rain   0.0   1.40   0.00   0.0   0.00   0.00   0.00   0.0   0.0  \n",
      "area   0.0   2.17   0.43   0.0   6.44  54.29  11.16   0.0   0.0  \n",
      "\n",
      "[4 rows x 517 columns]\n"
     ]
    }
   ],
   "source": [
    "transposed=arr.transpose()\n",
    "print(transposed)"
   ]
  },
  {
   "cell_type": "code",
   "execution_count": 49,
   "metadata": {},
   "outputs": [
    {
     "name": "stdout",
     "output_type": "stream",
     "text": [
      "(4, 517)\n"
     ]
    }
   ],
   "source": [
    "print(transposed.shape)"
   ]
  },
  {
   "cell_type": "markdown",
   "metadata": {},
   "source": [
    "5) **(1 PT)** Compute the square root of the first column of *arr* and save in variable *z*. Then print *z*."
   ]
  },
  {
   "cell_type": "code",
   "execution_count": 60,
   "metadata": {},
   "outputs": [
    {
     "name": "stdout",
     "output_type": "stream",
     "text": [
      "0      2.863564\n",
      "1      4.242641\n",
      "2      3.820995\n",
      "3      2.880972\n",
      "4      3.376389\n",
      "         ...   \n",
      "512    5.272571\n",
      "513    4.679744\n",
      "514    4.604346\n",
      "515    5.059644\n",
      "516    3.435113\n",
      "Name: temp, Length: 517, dtype: float64\n"
     ]
    }
   ],
   "source": [
    "z=np.sqrt((arr['temp']))\n",
    "print(z)"
   ]
  },
  {
   "cell_type": "markdown",
   "metadata": {},
   "source": [
    "Print the shape of z, which should be (517,)"
   ]
  },
  {
   "cell_type": "code",
   "execution_count": 54,
   "metadata": {},
   "outputs": [
    {
     "data": {
      "text/plain": [
       "(517,)"
      ]
     },
     "execution_count": 54,
     "metadata": {},
     "output_type": "execute_result"
    }
   ],
   "source": [
    "z.shape"
   ]
  },
  {
   "cell_type": "markdown",
   "metadata": {},
   "source": [
    "6) **(1 PT)** Create an identity matrix of shape (517,517), calling it *eye* and printing it."
   ]
  },
  {
   "cell_type": "code",
   "execution_count": 57,
   "metadata": {},
   "outputs": [
    {
     "name": "stdout",
     "output_type": "stream",
     "text": [
      "[[-1.42668204 -0.33763359 -0.54125579 ... -2.1831114  -0.02084008\n",
      "  -0.93808512]\n",
      " [-0.07863688  0.48662618 -0.9177932  ... -2.02425679  0.3429275\n",
      "   0.26283611]\n",
      " [ 0.38758371  0.21514208  0.31020893 ...  0.32067893  0.82513837\n",
      "   1.16951429]\n",
      " ...\n",
      " [ 0.52129028 -0.04419316  0.36930873 ...  0.48373233  0.05427567\n",
      "   0.91380424]\n",
      " [-0.88704651 -0.54610569  0.72430638 ...  0.27087605  1.45902956\n",
      "  -1.03057872]\n",
      " [ 1.12464625 -0.57494904 -0.54533274 ... -0.26224757  0.25580786\n",
      "   1.21342771]]\n"
     ]
    }
   ],
   "source": [
    "eye=np.random.randn(517, 517)"
   ]
  },
  {
   "cell_type": "markdown",
   "metadata": {},
   "source": [
    "Print *eye*"
   ]
  },
  {
   "cell_type": "code",
   "execution_count": 61,
   "metadata": {},
   "outputs": [
    {
     "name": "stdout",
     "output_type": "stream",
     "text": [
      "[[-1.42668204 -0.33763359 -0.54125579 ... -2.1831114  -0.02084008\n",
      "  -0.93808512]\n",
      " [-0.07863688  0.48662618 -0.9177932  ... -2.02425679  0.3429275\n",
      "   0.26283611]\n",
      " [ 0.38758371  0.21514208  0.31020893 ...  0.32067893  0.82513837\n",
      "   1.16951429]\n",
      " ...\n",
      " [ 0.52129028 -0.04419316  0.36930873 ...  0.48373233  0.05427567\n",
      "   0.91380424]\n",
      " [-0.88704651 -0.54610569  0.72430638 ...  0.27087605  1.45902956\n",
      "  -1.03057872]\n",
      " [ 1.12464625 -0.57494904 -0.54533274 ... -0.26224757  0.25580786\n",
      "   1.21342771]]\n"
     ]
    }
   ],
   "source": [
    "print(eye)"
   ]
  },
  {
   "cell_type": "markdown",
   "metadata": {},
   "source": [
    "7) **(1 PT)** Compute matrix product: *eye* * *z*, calling it *ez*  \n",
    "Hint: See [Details](https://numpy.org/doc/stable/reference/generated/numpy.matmul.html) for matrix multiply function.  \n",
    "Print the product, and check if the result makes sense."
   ]
  },
  {
   "cell_type": "code",
   "execution_count": 64,
   "metadata": {},
   "outputs": [
    {
     "name": "stdout",
     "output_type": "stream",
     "text": [
      "[-8.02372827e+01 -1.29518467e+02  9.75942223e+01 -5.91928421e+01\n",
      " -1.17360952e+02  5.85992712e+01  5.89432372e+01 -6.00871004e+00\n",
      " -3.44542599e+01 -4.88249826e+01 -3.50406101e+01  1.26038680e+02\n",
      "  5.35459254e+01  5.63493185e+01  1.29122906e+02  5.75074764e+01\n",
      "  9.16769784e+01 -2.81999943e+01 -4.13813721e+01  8.68472093e+01\n",
      "  5.02960231e+01 -1.25134649e+02  5.37438666e+01  1.23878135e+02\n",
      " -4.06314695e+01 -1.27203277e+02  1.10838371e+02 -1.02613173e+02\n",
      "  7.37949428e+01  3.55046702e+01 -1.00520211e+02 -8.93227802e+01\n",
      " -1.39625753e+02 -3.76628068e+01  8.66539108e+00 -1.96353844e+02\n",
      "  2.71743775e+01 -3.56859180e+01 -1.56665606e+01  3.25503997e+01\n",
      " -1.18096194e+02 -1.46493517e+02  4.15129584e-01 -1.25104313e+02\n",
      " -6.36178374e+01 -4.62941142e+01  1.86870777e+02  7.29349141e+01\n",
      "  4.56608066e+01  1.73049490e+02 -1.24498865e+02  7.28737148e+01\n",
      "  3.56278712e+01  4.86836389e+01  2.32539989e+02 -2.01620427e+02\n",
      "  1.64904442e+02 -7.18805542e+01 -5.64282530e+01 -1.51457254e+02\n",
      "  1.01589356e+02 -4.79117648e+01 -6.40873583e+01 -2.14677251e+02\n",
      "  1.32426129e+02  4.07295511e+01 -4.80683171e+01  3.50997690e+01\n",
      "  7.96018583e+01  1.26238321e+01 -4.77199281e+01 -5.24240688e+01\n",
      "  7.39074285e+01 -3.13939308e+01 -2.35038253e+02 -7.71258910e+01\n",
      " -5.50236277e+01  2.47804573e+02 -6.75426709e+01 -2.30548129e+02\n",
      " -1.15623138e+02  9.77374328e+01 -6.51459440e+01  1.30185603e+02\n",
      " -6.51530051e+00 -6.56171577e+01 -9.48300305e+01  1.53974036e+02\n",
      " -7.76258847e+01 -8.11582018e+00 -2.19597420e+01 -9.98475066e+01\n",
      " -2.40605844e+01  7.56988656e+01  7.12169599e+01  1.66898116e+02\n",
      " -1.11618610e+01  1.09689223e+02 -1.66040155e+02  1.04007635e+01\n",
      "  8.67653393e+01  1.70883066e+02  9.33249230e+01 -9.03912429e+00\n",
      "  6.80258651e+01 -9.73003383e+01  9.10861021e+01 -1.73045076e+01\n",
      " -5.02541976e+01 -3.61702717e+02  7.16533785e+01  1.04271233e+02\n",
      "  4.42277233e+01  3.41958242e+01  6.68587547e+01 -1.68548429e+02\n",
      " -1.34531628e+02  7.50660331e+01 -7.02935119e+01 -8.42669182e+01\n",
      "  1.40148447e+02  1.30451097e+02 -1.77216039e+01  1.43772219e+02\n",
      " -6.98219931e+01 -5.62813847e+01  1.63111279e+02  5.38607616e+01\n",
      " -1.82764558e+02 -2.29504659e+02  1.15365661e+02  7.26351720e+01\n",
      " -2.56636346e+00 -1.49403626e+02  6.92541182e+01  5.22308247e+00\n",
      "  1.82638420e+02  9.37635361e+00 -1.51053826e+02 -4.79527677e+01\n",
      "  3.52702663e+01 -6.11662686e+01  4.80106534e+01 -1.66282432e+02\n",
      "  7.11735586e+00  1.57315379e+01 -2.08250636e+02  2.39137707e+01\n",
      " -2.88323137e+01 -3.36080948e+01  1.11698941e+02  6.94140170e+01\n",
      " -1.06591483e+01 -2.49781491e+01  1.10807117e+02 -2.37470806e+01\n",
      " -2.84172387e+01  1.31573655e+01  9.20277152e+00  3.27827929e+01\n",
      " -2.98584675e+01  4.30466465e+01  9.35007869e+01 -3.35601067e+01\n",
      " -7.43785103e+01  2.18428810e+00  1.34413718e+02  3.26216297e+00\n",
      "  1.41728640e+02  5.81048988e+01  6.52209264e+01  1.69134392e+01\n",
      " -1.66081257e+02 -2.30769530e+01 -2.45659314e+01  2.72669118e+01\n",
      "  1.26733995e+02 -7.24274914e+01  7.84092112e-01 -3.84663921e+01\n",
      "  7.24171772e+01  1.61740378e+01 -2.19249929e+02  1.70234588e+02\n",
      "  1.31323055e+02  1.28734349e+01  7.01962551e+01 -1.75288971e+01\n",
      "  1.47411056e+01 -3.30958728e+01  1.57187552e+02 -1.75439097e+02\n",
      " -4.40765613e+01  2.29108827e+00 -1.00867041e+02  1.02131110e+02\n",
      "  1.34544739e+02  2.37488778e+01  1.87459237e+02 -5.91271991e+01\n",
      " -1.73892101e+01 -1.98690310e+02  1.11162729e+02  1.17624462e+01\n",
      "  8.86810523e+00 -1.23550076e+02 -5.62259738e+01  1.05162883e+02\n",
      " -3.41578104e+00  1.21720767e+02  2.21933432e+01 -9.72528462e+00\n",
      "  4.71200794e+01 -7.37184849e+01 -7.26513597e+01  1.08289978e+02\n",
      "  2.06966474e+01 -1.84357300e+02 -9.56385205e+01  7.16576619e+01\n",
      "  6.04714652e+01 -7.89035187e-01  1.27396961e+02  1.46428376e+02\n",
      " -1.61573338e+01  6.74322192e+01  7.74515856e+01  6.25771171e+01\n",
      " -3.31665366e+00  8.42079351e+01  5.29967319e+01 -2.14408216e+01\n",
      "  1.92683874e+02 -9.30281216e+01  1.18598726e+02  1.69220683e+02\n",
      " -2.65622071e+02 -1.72319722e+02  7.10828261e+01 -7.33450785e+01\n",
      " -6.47716042e+01 -1.00050815e+02  1.28414579e+02  6.18212794e+01\n",
      " -1.31355788e+02 -6.45244913e+01 -5.97881313e+01  1.42710628e+02\n",
      " -5.18567882e+01 -5.87459645e+01  4.83827138e+00  1.33465969e+02\n",
      "  1.13937607e+01  1.62260953e+02  5.67702083e+01 -7.44954196e+01\n",
      " -5.78721142e+01  1.79049313e+02  7.07146797e+01 -6.58971306e+01\n",
      " -2.28743124e+01  1.02133633e+02  3.06056501e+01 -3.83169060e+01\n",
      "  5.58558421e+01 -6.05349571e+01  8.79179060e+01 -8.34844363e+01\n",
      " -1.97773700e+02 -1.00608652e+02 -1.14726309e+02 -1.50188724e+02\n",
      " -7.03184648e+01 -2.17339610e+02 -1.52788794e+02 -3.48922854e+01\n",
      " -1.41295763e+01  1.01139554e+02  6.58840220e+00 -9.09784872e+00\n",
      " -6.95453855e+01  1.27930298e+02 -6.00185987e+01 -5.16817565e+01\n",
      "  6.59223772e+01  1.43611147e+02 -2.95275148e+01 -2.47740470e+01\n",
      " -4.28032540e+01 -4.80607412e+01  4.76037541e+01  3.74735928e+01\n",
      "  2.13047923e+02  1.79217690e+02  3.58819440e+00  7.53659012e+01\n",
      "  1.92472020e+01 -1.74866936e+01 -7.11948829e+01 -7.40146852e+01\n",
      " -4.06470499e+01 -6.89458924e+01 -1.64178965e+02 -1.78349054e+02\n",
      " -8.22453563e+01 -5.64397378e+01 -1.37062509e+02 -1.17652825e+02\n",
      " -7.69087950e+01  1.48137295e+02  5.37892895e+01  8.24654250e+00\n",
      " -6.12903766e+01  2.34569624e+01 -3.91003480e+01  8.29322855e+01\n",
      " -9.90384010e+01 -1.73743985e+02  1.57490499e+02  1.01619265e+02\n",
      "  1.77446114e+02 -8.74088133e+01 -2.33996965e+01  8.58579748e+01\n",
      " -1.38347070e+02  4.42671876e+01  7.97496375e+01  1.46477330e+02\n",
      "  2.67042718e+01 -4.22313458e+01  2.90938398e+01 -1.21854528e+02\n",
      "  1.64149145e+02  1.59879576e+02  9.51093735e-01 -4.94857534e+01\n",
      "  9.31795700e+00  1.98545868e+02 -4.20602212e+01  7.16136637e+01\n",
      "  1.40983698e+02 -1.11403865e+02  9.70420649e+01  2.14183652e+02\n",
      "  1.62300268e+01  1.33303029e+01  7.87558213e+01  1.74100265e+01\n",
      "  9.56304111e+01  1.33091735e+01 -1.85172893e+02 -7.49569145e+01\n",
      " -4.80223584e+01  7.85793922e+01  1.91471134e+02  1.03002084e+02\n",
      " -1.82470314e+01 -1.22756183e+02 -1.60767608e+02 -4.28350735e+01\n",
      "  4.87044585e+01  1.46408790e+02  8.00073871e+01 -7.33836084e+01\n",
      " -1.61493051e+01 -1.32419244e+02 -5.70192286e+01 -1.09452829e+01\n",
      "  2.80824831e+02  6.78282424e+01 -9.72405442e+01 -3.92512685e+00\n",
      " -1.61726214e+01  1.69465073e+01  3.93916393e+01  3.65480611e+01\n",
      " -3.66581226e+01 -1.40463566e+02  2.32180056e+00 -3.73590988e+01\n",
      " -4.17609453e+01  1.20417450e+02  6.55286934e+01  4.90411228e+01\n",
      " -1.48692275e+01 -4.67395122e+01 -1.05053034e+02  7.43242777e-03\n",
      "  2.29405946e+00  3.67676408e+00 -4.42075055e+01  1.25853017e+02\n",
      "  1.23716236e+02  4.60017751e+01  5.95082879e+01  8.50732734e+01\n",
      "  1.43884127e+01 -6.95654811e+01  1.03054985e+02  1.08044258e+02\n",
      " -1.19640175e+02  9.39892246e+01 -7.00283499e+01 -2.40780810e+01\n",
      "  1.35245375e+02  5.37606584e+01 -7.27752184e+01 -6.98317953e+01\n",
      "  9.89782203e+01  1.05389489e+02 -1.24778159e+00  1.11463785e+01\n",
      "  2.38186883e+02 -3.69431158e+00 -9.75111723e+01 -1.59346944e+02\n",
      " -1.17247655e+02  1.04462910e+02 -1.95686128e+01 -1.14880155e+02\n",
      " -2.89536041e+01 -6.09588868e+01 -1.04358294e+02  4.67937667e+01\n",
      "  1.26136700e+01  5.58582461e+01 -5.15686355e+01 -5.51692119e+01\n",
      " -4.94113164e+01  1.90184912e+02  1.02315612e+02 -5.90327580e+01\n",
      "  3.17345878e+01  2.83328040e+01  1.65981644e+01  5.16798327e+01\n",
      "  1.07634495e+02 -1.65602307e+01  2.24891140e+01 -5.32916383e+01\n",
      " -9.18817979e+00  7.97837297e+01  1.26978859e+02  8.07124019e+01\n",
      "  1.20369008e+02  1.09262316e+01  2.50247413e+01 -1.83872924e+02\n",
      " -1.11649075e+02 -2.06523857e+01  1.13705002e+02 -1.06376126e+02\n",
      "  3.81467131e+01  5.51715790e+01  7.57214047e+01 -4.30658285e+00\n",
      "  3.89644258e+01  6.99437650e+01 -4.41277426e+01 -9.51661528e+01\n",
      " -1.93604792e+02  1.02374816e+01 -1.10248314e+02 -1.42253936e+02\n",
      "  3.31626144e+01  5.69186749e+00  2.55314730e+01 -1.40188384e+02\n",
      " -1.76047719e+02 -2.72007023e+01 -1.60558097e+02  9.36556083e+01\n",
      " -7.17344831e+01 -5.67745772e+01 -1.21042526e+02  9.65733822e+01\n",
      "  9.16710976e+01 -5.55585462e+01  1.27731165e+02  6.69381784e+01\n",
      " -9.93607087e+00  1.24797047e+01 -1.11063721e+02  1.52181458e+01\n",
      "  7.28909883e+01  1.90044353e+02  1.43248714e+02  4.60529570e+00\n",
      " -2.08495503e+02 -7.36883119e+00 -8.74752905e+01 -3.21970226e+00\n",
      " -8.83671470e+01 -3.11722081e+01 -3.92140189e+01  1.85546457e+01\n",
      " -6.31425877e+01  7.69132822e+01 -3.33873754e+01 -8.35214561e+01\n",
      "  9.66102274e+01 -8.93807483e+01 -8.51642350e+01  1.49830717e+02\n",
      " -3.84818891e+01  1.97842600e+02 -1.49045811e+01  6.61091710e+01\n",
      " -1.44834789e+02 -4.46053999e+01  5.87051889e+01 -1.33853277e+02\n",
      " -1.45430847e+02  8.87722384e+01 -8.61871505e+01  2.14258847e+01\n",
      "  1.66432761e+02]\n"
     ]
    }
   ],
   "source": [
    "ez = np.matmul(eye, z)\n",
    "print(ez)"
   ]
  },
  {
   "cell_type": "markdown",
   "metadata": {},
   "source": [
    "8) **(1 PT)** Compute the mean of *z*"
   ]
  },
  {
   "cell_type": "code",
   "execution_count": 66,
   "metadata": {},
   "outputs": [
    {
     "data": {
      "text/plain": [
       "4.284741292987934"
      ]
     },
     "execution_count": 66,
     "metadata": {},
     "output_type": "execute_result"
    }
   ],
   "source": [
    "np.mean(z)"
   ]
  },
  {
   "cell_type": "markdown",
   "metadata": {},
   "source": [
    "9) **(1 PT)** Apply a mask to z, removing values less than 2. Call this *mz*, and print it."
   ]
  },
  {
   "cell_type": "code",
   "execution_count": 70,
   "metadata": {},
   "outputs": [
    {
     "name": "stdout",
     "output_type": "stream",
     "text": [
      "0      2.863564\n",
      "1      4.242641\n",
      "2      3.820995\n",
      "3      2.880972\n",
      "4      3.376389\n",
      "         ...   \n",
      "512    5.272571\n",
      "513    4.679744\n",
      "514    4.604346\n",
      "515    5.059644\n",
      "516    3.435113\n",
      "Name: temp, Length: 516, dtype: float64\n"
     ]
    }
   ],
   "source": [
    "mz = z[z>2]\n",
    "print(mz)"
   ]
  },
  {
   "cell_type": "markdown",
   "metadata": {},
   "source": [
    "10) **(1 PT)** Compute the mean and standard deviation of *mz*, printing them as a tuple like (m, s) for mean and standard deviation, respectively."
   ]
  },
  {
   "cell_type": "code",
   "execution_count": 85,
   "metadata": {},
   "outputs": [
    {
     "name": "stdout",
     "output_type": "stream",
     "text": [
      "(4.290170559646013, 0.7182953411053342)\n"
     ]
    }
   ],
   "source": [
    "m = np.mean(mz)\n",
    "s = np.std(mz)\n",
    "print((m,s))"
   ]
  },
  {
   "cell_type": "markdown",
   "metadata": {},
   "source": [
    "11) **(1 PT)** Given *mz*, set all values less than 2.4 equal to 2.4 (apply a floor), and set all values greater than 2.6 to 2.6 (apply a ceiling).  \n",
    "[Hint](https://numpy.org/doc/stable/reference/generated/numpy.clip.html)  \n",
    "Call this variable *cz* and print the values."
   ]
  },
  {
   "cell_type": "code",
   "execution_count": 89,
   "metadata": {},
   "outputs": [
    {
     "name": "stdout",
     "output_type": "stream",
     "text": [
      "0      2.6\n",
      "1      2.6\n",
      "2      2.6\n",
      "3      2.6\n",
      "4      2.6\n",
      "      ... \n",
      "512    2.6\n",
      "513    2.6\n",
      "514    2.6\n",
      "515    2.6\n",
      "516    2.6\n",
      "Name: temp, Length: 516, dtype: float64\n"
     ]
    }
   ],
   "source": [
    "cz = np.clip(mz, 2.4, 2.6)\n",
    "print(cz)"
   ]
  },
  {
   "cell_type": "markdown",
   "metadata": {},
   "source": [
    "12) **(1 PT)** Using *matplotlib*, plot histograms of *z*, *mz*, and *cz*"
   ]
  },
  {
   "cell_type": "code",
   "execution_count": 90,
   "metadata": {},
   "outputs": [],
   "source": [
    "import matplotlib.pyplot as plt"
   ]
  },
  {
   "cell_type": "code",
   "execution_count": 92,
   "metadata": {},
   "outputs": [
    {
     "data": {
      "text/plain": [
       "(array([  1.,  17.,   6.,  16.,  40.,  73., 139., 139.,  66.,  20.]),\n",
       " array([1.4832397 , 1.91197725, 2.3407148 , 2.76945235, 3.19818991,\n",
       "        3.62692746, 4.05566501, 4.48440256, 4.91314011, 5.34187767,\n",
       "        5.77061522]),\n",
       " <BarContainer object of 10 artists>)"
      ]
     },
     "execution_count": 92,
     "metadata": {},
     "output_type": "execute_result"
    },
    {
     "data": {
      "image/png": "[encoded data removed]",
      "text/plain": [
       "<Figure size 432x288 with 1 Axes>"
      ]
     },
     "metadata": {
      "needs_background": "light"
     },
     "output_type": "display_data"
    }
   ],
   "source": [
    "# z\n",
    "plt.hist(z)"
   ]
  },
  {
   "cell_type": "code",
   "execution_count": 93,
   "metadata": {},
   "outputs": [
    {
     "data": {
      "text/plain": [
       "(array([ 20.,   3.,  12.,  37.,  48., 100., 136.,  96.,  48.,  16.]),\n",
       " array([2.04939015, 2.42151266, 2.79363517, 3.16575767, 3.53788018,\n",
       "        3.91000269, 4.28212519, 4.6542477 , 5.02637021, 5.39849271,\n",
       "        5.77061522]),\n",
       " <BarContainer object of 10 artists>)"
      ]
     },
     "execution_count": 93,
     "metadata": {},
     "output_type": "execute_result"
    },
    {
     "data": {
      "image/png": "[encoded data removed]",
      "text/plain": [
       "<Figure size 432x288 with 1 Axes>"
      ]
     },
     "metadata": {
      "needs_background": "light"
     },
     "output_type": "display_data"
    }
   ],
   "source": [
    "# mz\n",
    "plt.hist(mz)"
   ]
  },
  {
   "cell_type": "code",
   "execution_count": 95,
   "metadata": {},
   "outputs": [
    {
     "data": {
      "text/plain": [
       "(array([ 20.,   0.,   0.,   0.,   0.,   0.,   0.,   0.,   0., 496.]),\n",
       " array([2.4 , 2.42, 2.44, 2.46, 2.48, 2.5 , 2.52, 2.54, 2.56, 2.58, 2.6 ]),\n",
       " <BarContainer object of 10 artists>)"
      ]
     },
     "execution_count": 95,
     "metadata": {},
     "output_type": "execute_result"
    },
    {
     "data": {
      "image/png": "[encoded data removed]",
      "text/plain": [
       "<Figure size 432x288 with 1 Axes>"
      ]
     },
     "metadata": {
      "needs_background": "light"
     },
     "output_type": "display_data"
    }
   ],
   "source": [
    "# cz\n",
    "plt.hist(cz)"
   ]
  },
  {
   "cell_type": "markdown",
   "metadata": {},
   "source": [
    "**SIMULATION EXERCISES**"
   ]
  },
  {
   "cell_type": "markdown",
   "metadata": {},
   "source": [
    "13) **(1 PT)** Draw 100 random values from a standard normal distribution, using SEED = 314."
   ]
  },
  {
   "cell_type": "code",
   "execution_count": 125,
   "metadata": {},
   "outputs": [
    {
     "name": "stdout",
     "output_type": "stream",
     "text": [
      "[ 0.16608544  0.78196448  0.85228509 -0.70707096 -0.93165719  0.88666088\n",
      " -0.22178966  0.38172358 -0.77257544  0.86298719 -0.28126003 -0.93192543\n",
      " -0.49853725  0.76432549  0.19150443 -0.61876383  1.66571909  1.7381882\n",
      "  1.18222626  1.11937572 -1.86605484 -0.63641398 -0.76091643  2.66405306\n",
      "  0.16817076  0.18136585  1.32135902  0.43781928  0.19675917 -1.52956799\n",
      " -0.33748039 -0.96137142 -0.23133548 -1.14722501 -0.42294534  1.33054696\n",
      " -0.92783383  0.10527984 -1.09755663 -0.87038088 -0.88290362  0.3992024\n",
      "  0.05468922 -0.84956149  0.98628471  0.29593524  1.70984745 -0.37751821\n",
      " -0.27393571 -1.13925738 -0.40426538 -0.89955014 -0.45587449  0.21859313\n",
      "  0.65897885 -1.15106527 -0.17038979 -1.01244879  0.17762838 -1.24809581\n",
      "  0.36346598  1.48327704 -0.28145836  0.41544126 -0.54829399  0.24367764\n",
      " -0.37245552  0.86221593 -1.40354516  1.41368913 -0.44068334  1.20110936\n",
      " -1.47307629 -0.15802795 -0.67009457 -1.02665006  1.2861011   0.15637034\n",
      " -0.83163134  1.89373309  1.79107898  0.09053548  0.05684375 -0.14790181\n",
      " -0.85165972 -0.60498225  0.86458806 -2.2202643   0.32900089 -1.29260993\n",
      "  0.85133427 -1.33570526  0.21023918 -0.5957493   0.23565526  0.7347443\n",
      "  1.01661854  0.089515   -1.06593683  0.42040595]\n"
     ]
    },
    {
     "data": {
      "text/plain": [
       "(array([11., 16., 12., 16., 19.,  6.,  7.,  5.,  5.,  3.]),\n",
       " array([-3.86005659, -2.74049014, -1.62092368, -0.50135723,  0.61820923,\n",
       "         1.73777568,  2.85734213,  3.97690859,  5.09647504,  6.2160415 ,\n",
       "         7.33560795]),\n",
       " <BarContainer object of 10 artists>)"
      ]
     },
     "execution_count": 125,
     "metadata": {},
     "output_type": "execute_result"
    },
    {
     "data": {
      "image/png": "[encoded data removed]",
      "text/plain": [
       "<Figure size 432x288 with 1 Axes>"
      ]
     },
     "metadata": {
      "needs_background": "light"
     },
     "output_type": "display_data"
    }
   ],
   "source": [
    "from numpy.random import seed\n",
    "from numpy.random import normal\n",
    "\n",
    "seed(314)\n",
    "\n",
    "dev = normal(loc=0, scale=1, size=100)\n",
    "\n",
    "print(dev)\n",
    "\n",
    "# compute cumulative sum\n",
    "# https://mathworld.wolfram.com/CumulativeSum.html\n",
    "cumsum = np.cumsum(dev)\n",
    "\n",
    "\n",
    "# plot the cumulative sum (called a random walk)\n",
    "plt.hist(cumsum)"
   ]
  },
  {
   "cell_type": "markdown",
   "metadata": {},
   "source": [
    "14) **(1 PT)** Write code to generate and plot 10 random walks. For reproducibility, explicitly use seed=314.  \n",
    "Hint: Calling *plt.plot()* in a loop will overplot on one graph"
   ]
  },
  {
   "cell_type": "code",
   "execution_count": 145,
   "metadata": {},
   "outputs": [
    {
     "data": {
      "image/png": "[encoded data removed]",
      "text/plain": [
       "<Figure size 432x288 with 1 Axes>"
      ]
     },
     "metadata": {
      "needs_background": "light"
     },
     "output_type": "display_data"
    }
   ],
   "source": [
    "seed(314)\n",
    "for i in range(0,10): \n",
    "    dev = normal(loc=0,scale=1,size=10)\n",
    "    cumsum=np.cumsum(dev)\n",
    "    plt.plot(cumsum)"
   ]
  },
  {
   "cell_type": "markdown",
   "metadata": {},
   "source": [
    "---"
   ]
  }
 ],
 "metadata": {
  "kernelspec": {
   "display_name": "Python 3",
   "language": "python",
   "name": "python3"
  },
  "language_info": {
   "codemirror_mode": {
    "name": "ipython",
    "version": 3
   },
   "file_extension": ".py",
   "mimetype": "text/x-python",
   "name": "python",
   "nbconvert_exporter": "python",
   "pygments_lexer": "ipython3",
   "version": "3.8.5"
  }
 },
 "nbformat": 4,
 "nbformat_minor": 4
}
